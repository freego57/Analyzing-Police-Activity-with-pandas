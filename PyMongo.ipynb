{
 "cells": [
  {
   "cell_type": "code",
   "execution_count": 1,
   "metadata": {},
   "outputs": [
    {
     "name": "stdout",
     "output_type": "stream",
     "text": [
      "Collecting package metadata (current_repodata.json): done\n",
      "Solving environment: done\n",
      "\n",
      "## Package Plan ##\n",
      "\n",
      "  environment location: /Users/liyidan/opt/anaconda3\n",
      "\n",
      "  added / updated specs:\n",
      "    - pymongo\n",
      "\n",
      "\n",
      "The following packages will be downloaded:\n",
      "\n",
      "    package                    |            build\n",
      "    ---------------------------|-----------------\n",
      "    conda-4.8.3                |           py37_0         2.8 MB\n",
      "    pymongo-3.9.0              |   py37h0a44026_0         1.1 MB\n",
      "    ------------------------------------------------------------\n",
      "                                           Total:         3.9 MB\n",
      "\n",
      "The following NEW packages will be INSTALLED:\n",
      "\n",
      "  pymongo            pkgs/main/osx-64::pymongo-3.9.0-py37h0a44026_0\n",
      "\n",
      "The following packages will be UPDATED:\n",
      "\n",
      "  conda                                       4.7.12-py37_0 --> 4.8.3-py37_0\n",
      "\n",
      "\n",
      "\n",
      "Downloading and Extracting Packages\n",
      "pymongo-3.9.0        | 1.1 MB    | ##################################### | 100% \n",
      "conda-4.8.3          | 2.8 MB    | ##################################### | 100% \n",
      "Preparing transaction: done\n",
      "Verifying transaction: done\n",
      "Executing transaction: done\n",
      "\n",
      "Note: you may need to restart the kernel to use updated packages.\n"
     ]
    }
   ],
   "source": [
    "conda install pymongo"
   ]
  },
  {
   "cell_type": "code",
   "execution_count": 1,
   "metadata": {},
   "outputs": [],
   "source": [
    "import pymongo\n",
    "connection=pymongo.MongoClient('localhost',27017)"
   ]
  },
  {
   "cell_type": "code",
   "execution_count": 10,
   "metadata": {},
   "outputs": [],
   "source": [
    "#create database and 2 collections\n",
    "database=connection['library']\n",
    "collection1=database['ebooks']\n",
    "collection2=database['users']"
   ]
  },
  {
   "cell_type": "code",
   "execution_count": 11,
   "metadata": {
    "scrolled": true
   },
   "outputs": [
    {
     "data": {
      "text/plain": [
       "<pymongo.results.InsertManyResult at 0x108cd2a00>"
      ]
     },
     "execution_count": 11,
     "metadata": {},
     "output_type": "execute_result"
    }
   ],
   "source": [
    "#insert data into ebooks\n",
    "collection1.insert_many([{'title':\"Becoming\",'primary_author':\"Michelle Obama\",'secondary_author':None, 'date_of_first_publication':\"2018-11-13\",'number_of_pages':448, 'publisher':\"Crown Publishing Group\", 'translator':None, 'topic':\"Biography\"},{'title':\"Introduction to Machine Learning with Python\",'primary_author':\"Andreas Muller\",'secondary_author':\"Sarah Guido\", 'date_of_first_publication':\"2016-10-21\",'number_of_pages':400, 'publisher':\"Reilly Media\", 'translator':None, 'topic':\"Machine Learning\"},{'title':\"Principles\",'primary_author':\"Ray Dalio\",'secondary_author':None, 'date_of_first_publication':\"2017-09-19\",'number_of_pages':592, 'publisher':\"Simon & Schuster\", 'translator':None, 'topic':\"Biography\"},{'title':\"The Lost Symbol\",'primary_author':\"Dan Brown\",'secondary_author':None, 'date_of_first_publication':\"2009-09-15\",'number_of_pages':528, 'publisher':\"Doubleday\", 'translator':None, 'topic':\"Fiction\"}])"
   ]
  },
  {
   "cell_type": "code",
   "execution_count": 12,
   "metadata": {},
   "outputs": [
    {
     "data": {
      "text/plain": [
       "<pymongo.results.InsertManyResult at 0x108cf8230>"
      ]
     },
     "execution_count": 12,
     "metadata": {},
     "output_type": "execute_result"
    }
   ],
   "source": [
    "#insert data into users\n",
    "collection2.insert_many([{'user_id':1, 'name':\"Simon Davis\", 'phone':\"6465424325\", 'address':\"209 W 110th St, New York, NY\",'university_affiliation':\"Columbia University\",'book_title':\"The Lost Symbol\",'topic':\"Fiction\", 'check_out_date':\"2020-02-22\",'comments':[{'comments1':'Really interesting','comments2':'Opened my imagination','comments3':'Recommend it'}]},{'user_id':1, 'name':\"Simon Davis\", 'phone':\"6465424325\", 'address':\"209 W 110th St, New York, NY\",'university_affiliation':\"Columbia University\",'book_title':\"Introduction to Machine Learning with Python\",'topic':\"Machine Learning\", 'check_out_date':\"2020-01-04\",'comments':[{'comments1':'Helpful','comments2':'Good for beginners','comments3':'Learnt a lot'}]},{'user_id':2, 'name':\"Ashley Miller\", 'phone':\"2125638899\", 'address':\"103 Orchard St, New York, NY\",'university_affiliation':\"New York University\",'book_title':\"Becoming\",'topic':\"Biography\", 'check_out_date':\"2019-12-21\",'comments':[{'comments1':'Inspiring','comments2':'Beautiful words','comments3':'Want to read again'}]},{'user_id':3, 'name':\"Jack Wilson\", 'phone':\"3258593002\", 'address':\"1256 Amsterdam Ave, New York, NY\",'university_affiliation':\"Fordham University\",'book_title':\"Becoming\",'topic':\"Biography\", 'check_out_date':\"2020-03-02\",'comments':[{'comments1':'Interesting stories','comments2':'read every day','comments3':'very thoughtful'}]},{'user_id':3, 'name':\"Jack Wilson\", 'phone':\"3258593002\", 'address':\"1256 Amsterdam Ave, New York, NY\",'university_affiliation':\"Fordham University\",'book_title':\"Introduction to Machine Learning with Python\",'topic':\"Machine Learning\", 'check_out_date':\"2020-01-04\",'comments':[{'comments1':'easy to read','comments2':'many handy methods covered','comments3':'my Python skill improved'}]},{'user_id':4, 'name':\"Zeo Scott\", 'phone':\"4829504829\", 'address':\"511 W 125th St, New York, NY\",'university_affiliation':\"Columbia University\",'book_title':\"Principles\",'topic':\"Biography\", 'check_out_date':\"2020-02-29\",'comments':[{'comments1':'Like this book','comments2':'practical for everyday life','comments3':'learn something about investment as well'}]},{'user_id':5, 'name':\"Terry Cooper\", 'phone':\"2127478937\", 'address':\"285 Grand St, New York, NY\",'university_affiliation':\"Columbia University\",'book_title':\"Introduction to Machine Learning with Python\",'topic':\"Machine Learning\", 'check_out_date':\"2020-02-16\",'comments':[{'comments1':'read for final exam','comments2':'really helpful','comments3':'improved my efficiency'}]},{'user_id':6, 'name':\"Sam Reed\", 'phone':\"4258829593\", 'address':\"20W 72nd St, New York, NY\",'university_affiliation':\"Columbia University\",'book_title':\"The Lost Symbol\",'topic':\"Fiction\", 'check_out_date':\"2019-11-23\",'comments':[{'comments1':'attracting stories','comments2':'learnt more about history','comments3':'worth reading'}]}])"
   ]
  },
  {
   "cell_type": "code",
   "execution_count": 13,
   "metadata": {},
   "outputs": [
    {
     "name": "stdout",
     "output_type": "stream",
     "text": [
      "{'_id': ObjectId('5e9b0851463a2d04bc0cb0fe'), 'title': 'Becoming', 'primary_author': 'Michelle Obama', 'secondary_author': None, 'date_of_first_publication': '2018-11-13', 'number_of_pages': 448, 'publisher': 'Crown Publishing Group', 'translator': None, 'topic': 'Biography'}\n",
      "{'_id': ObjectId('5e9b0851463a2d04bc0cb0ff'), 'title': 'Introduction to Machine Learning with Python', 'primary_author': 'Andreas Muller', 'secondary_author': 'Sarah Guido', 'date_of_first_publication': '2016-10-21', 'number_of_pages': 400, 'publisher': 'Reilly Media', 'translator': None, 'topic': 'Machine Learning'}\n",
      "{'_id': ObjectId('5e9b0851463a2d04bc0cb100'), 'title': 'Principles', 'primary_author': 'Ray Dalio', 'secondary_author': None, 'date_of_first_publication': '2017-09-19', 'number_of_pages': 592, 'publisher': 'Simon & Schuster', 'translator': None, 'topic': 'Biography'}\n",
      "{'_id': ObjectId('5e9b0851463a2d04bc0cb101'), 'title': 'The Lost Symbol', 'primary_author': 'Dan Brown', 'secondary_author': None, 'date_of_first_publication': '2009-09-15', 'number_of_pages': 528, 'publisher': 'Doubleday', 'translator': None, 'topic': 'Fiction'}\n",
      "{'_id': ObjectId('5e9b0854463a2d04bc0cb102'), 'user_id': 1, 'name': 'Simon Davis', 'phone': '6465424325', 'address': '209 W 110th St, New York, NY', 'university_affiliation': 'Columbia University', 'book_title': 'The Lost Symbol', 'topic': 'Fiction', 'check_out_date': '2020-02-22', 'comments': [{'comments1': 'Really interesting', 'comments2': 'Opened my imagination', 'comments3': 'Recommend it'}]}\n",
      "{'_id': ObjectId('5e9b0854463a2d04bc0cb103'), 'user_id': 1, 'name': 'Simon Davis', 'phone': '6465424325', 'address': '209 W 110th St, New York, NY', 'university_affiliation': 'Columbia University', 'book_title': 'Introduction to Machine Learning with Python', 'topic': 'Machine Learning', 'check_out_date': '2020-01-04', 'comments': [{'comments1': 'Helpful', 'comments2': 'Good for beginners', 'comments3': 'Learnt a lot'}]}\n",
      "{'_id': ObjectId('5e9b0854463a2d04bc0cb104'), 'user_id': 2, 'name': 'Ashley Miller', 'phone': '2125638899', 'address': '103 Orchard St, New York, NY', 'university_affiliation': 'New York University', 'book_title': 'Becoming', 'topic': 'Biography', 'check_out_date': '2019-12-21', 'comments': [{'comments1': 'Inspiring', 'comments2': 'Beautiful words', 'comments3': 'Want to read again'}]}\n",
      "{'_id': ObjectId('5e9b0854463a2d04bc0cb105'), 'user_id': 3, 'name': 'Jack Wilson', 'phone': '3258593002', 'address': '1256 Amsterdam Ave, New York, NY', 'university_affiliation': 'Fordham University', 'book_title': 'Becoming', 'topic': 'Biography', 'check_out_date': '2020-03-02', 'comments': [{'comments1': 'Interesting stories', 'comments2': 'read every day', 'comments3': 'very thoughtful'}]}\n",
      "{'_id': ObjectId('5e9b0854463a2d04bc0cb106'), 'user_id': 3, 'name': 'Jack Wilson', 'phone': '3258593002', 'address': '1256 Amsterdam Ave, New York, NY', 'university_affiliation': 'Fordham University', 'book_title': 'Introduction to Machine Learning with Python', 'topic': 'Machine Learning', 'check_out_date': '2020-01-04', 'comments': [{'comments1': 'easy to read', 'comments2': 'many handy methods covered', 'comments3': 'my Python skill improved'}]}\n",
      "{'_id': ObjectId('5e9b0854463a2d04bc0cb107'), 'user_id': 4, 'name': 'Zeo Scott', 'phone': '4829504829', 'address': '511 W 125th St, New York, NY', 'university_affiliation': 'Columbia University', 'book_title': 'Principles', 'topic': 'Biography', 'check_out_date': '2020-02-29', 'comments': [{'comments1': 'Like this book', 'comments2': 'practical for everyday life', 'comments3': 'learn something about investment as well'}]}\n",
      "{'_id': ObjectId('5e9b0854463a2d04bc0cb108'), 'user_id': 5, 'name': 'Terry Cooper', 'phone': '2127478937', 'address': '285 Grand St, New York, NY', 'university_affiliation': 'Columbia University', 'book_title': 'Introduction to Machine Learning with Python', 'topic': 'Machine Learning', 'check_out_date': '2020-02-16', 'comments': [{'comments1': 'read for final exam', 'comments2': 'really helpful', 'comments3': 'improved my efficiency'}]}\n",
      "{'_id': ObjectId('5e9b0854463a2d04bc0cb109'), 'user_id': 6, 'name': 'Sam Reed', 'phone': '4258829593', 'address': '20W 72nd St, New York, NY', 'university_affiliation': 'Columbia University', 'book_title': 'The Lost Symbol', 'topic': 'Fiction', 'check_out_date': '2019-11-23', 'comments': [{'comments1': 'attracting stories', 'comments2': 'learnt more about history', 'comments3': 'worth reading'}]}\n"
     ]
    }
   ],
   "source": [
    "#https://www.youtube.com/watch?v=5c-d5YZ3cc8\n",
    "#all record from collection1\n",
    "for record in collection1.find():\n",
    "    print(record)\n",
    "#all record from collection2\n",
    "for record in collection2.find():\n",
    "    print(record)"
   ]
  },
  {
   "cell_type": "code",
   "execution_count": 14,
   "metadata": {},
   "outputs": [
    {
     "name": "stdout",
     "output_type": "stream",
     "text": [
      "Introduction to Machine Learning with Python\n",
      "Becoming\n",
      "Introduction to Machine Learning with Python\n"
     ]
    }
   ],
   "source": [
    "#1.Which books have been checked out since such and such date.\n",
    "for record in collection2.find({'check_out_date':{\"$gte\":(\"2019-12-01\"), \"$lt\":(\"2020-01-31\")}}):\n",
    "    print(record['book_title'])"
   ]
  },
  {
   "cell_type": "code",
   "execution_count": 31,
   "metadata": {},
   "outputs": [
    {
     "name": "stdout",
     "output_type": "stream",
     "text": [
      "2\n",
      "3\n",
      "4\n"
     ]
    }
   ],
   "source": [
    "#2.Which users have checked out such and such book.\n",
    "for record in collection2.find({'book_title':{'$in': ['Becoming','Principles']}}):\n",
    "    print(record['user_id'])"
   ]
  },
  {
   "cell_type": "code",
   "execution_count": 33,
   "metadata": {},
   "outputs": [
    {
     "name": "stdout",
     "output_type": "stream",
     "text": [
      "3\n"
     ]
    }
   ],
   "source": [
    "#3.How many books does the library have on such and such topic.\n",
    "count=0\n",
    "for record in collection1.find({'topic':{'$in':['Biography','Fiction']}}):\n",
    "    count=count+1\n",
    "print(count)\n",
    "   "
   ]
  },
  {
   "cell_type": "code",
   "execution_count": 16,
   "metadata": {},
   "outputs": [
    {
     "name": "stdout",
     "output_type": "stream",
     "text": [
      "{'_id': ObjectId('5e9b0854463a2d04bc0cb103'), 'user_id': 1, 'name': 'Simon Davis', 'phone': '6465424325', 'address': '209 W 110th St, New York, NY', 'university_affiliation': 'Columbia University', 'book_title': 'Introduction to Machine Learning with Python', 'topic': 'Machine Learning', 'check_out_date': '2020-01-04', 'comments': [{'comments1': 'Helpful', 'comments2': 'Good for beginners', 'comments3': 'Learnt a lot'}]}\n",
      "{'_id': ObjectId('5e9b0854463a2d04bc0cb108'), 'user_id': 5, 'name': 'Terry Cooper', 'phone': '2127478937', 'address': '285 Grand St, New York, NY', 'university_affiliation': 'Columbia University', 'book_title': 'Introduction to Machine Learning with Python', 'topic': 'Machine Learning', 'check_out_date': '2020-02-16', 'comments': [{'comments1': 'read for final exam', 'comments2': 'really helpful', 'comments3': 'improved my efficiency'}]}\n"
     ]
    }
   ],
   "source": [
    "#4.Which users from Columbia University have checked out books on Machine Learning \n",
    "#between this date and that date.\n",
    "for record in collection2.find({'university_affiliation':'Columbia University',\n",
    "                                'topic':'Machine Learning',\n",
    "                                'check_out_date':{\"$gte\":(\"2019-12-01\"), \"$lt\":(\"2020-02-29\")}}):\n",
    "    print(record)"
   ]
  },
  {
   "cell_type": "code",
   "execution_count": 77,
   "metadata": {},
   "outputs": [
    {
     "name": "stdout",
     "output_type": "stream",
     "text": [
      "{'_id': ObjectId('5e9a6c0119fbdd69e21d8a52'), 'user_id': 3, 'name': 'Jack Wilson', 'phone': '3258593002', 'address': '1256 Amsterdam Ave, New York, NY', 'university_affiliation': 'Fordham University', 'book_title': 'Becoming', 'topic': 'Biography', 'check_out_date': '2020-03-02', 'comments': [{'comments1': 'Interesting stories', 'comments2': 'read every day', 'comments3': 'very thoughtful'}]}\n",
      "{'_id': ObjectId('5e9a6c0119fbdd69e21d8a54'), 'user_id': 4, 'name': 'Zeo Scott', 'phone': '4829504829', 'address': '511 W 125th St, New York, NY', 'university_affiliation': 'Columbia University', 'book_title': 'Principles', 'topic': 'Biography', 'check_out_date': '2020-02-29', 'comments': [{'comments1': 'Like this book', 'comments2': 'practical for everyday life', 'comments3': 'learn something about investment as well'}]}\n"
     ]
    }
   ],
   "source": [
    "#5.What comments have been made by any User about such and such book between such and such dates, \n",
    "#ordered from the most recent to the least recent.\n",
    "for record in collection2.find({'user_id':{'$in':[1,3,4,5]},\n",
    "                                'book_title':{'$in': ['Becoming','Principles']},\n",
    "                               'check_out_date':{\"$gte\":(\"2020-02-01\"), \n",
    "                                                 \"$lt\":(\"2020-03-31\")}}).sort('check_out_date',-1):\n",
    "    print(record)"
   ]
  },
  {
   "cell_type": "code",
   "execution_count": 18,
   "metadata": {},
   "outputs": [
    {
     "name": "stdout",
     "output_type": "stream",
     "text": [
      "[{'comments1': 'Really interesting', 'comments2': 'Opened my imagination', 'comments3': 'Recommend it'}]\n"
     ]
    }
   ],
   "source": [
    "#6.Show for a given User, what comments they have made about such and such book.\n",
    "for record in collection2.find({'user_id':1,'book_title':'The Lost Symbol'}):\n",
    "    print(record['comments'])"
   ]
  }
 ],
 "metadata": {
  "kernelspec": {
   "display_name": "Python 3",
   "language": "python",
   "name": "python3"
  },
  "language_info": {
   "codemirror_mode": {
    "name": "ipython",
    "version": 3
   },
   "file_extension": ".py",
   "mimetype": "text/x-python",
   "name": "python",
   "nbconvert_exporter": "python",
   "pygments_lexer": "ipython3",
   "version": "3.7.4"
  }
 },
 "nbformat": 4,
 "nbformat_minor": 2
}
